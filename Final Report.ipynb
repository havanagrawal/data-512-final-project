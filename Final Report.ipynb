{
 "cells": [
  {
   "cell_type": "markdown",
   "metadata": {},
   "source": [
    "# Analyzing 19th Century Literature w.r.t. the Bechdel Test\n"
   ]
  },
  {
   "cell_type": "markdown",
   "metadata": {},
   "source": [
    "Havan Agrawal  \n",
    "DATA 516 - Human Centered Data Science  \n",
    "University of Washington - Fall 2018"
   ]
  },
  {
   "cell_type": "markdown",
   "metadata": {},
   "source": [
    "## Introduction"
   ]
  },
  {
   "cell_type": "markdown",
   "metadata": {},
   "source": [
    "Gender diversity has always been an area of interest for human-centered studies, and one that has been well-explored. However, the idea of evaluating gender diversity, and representation of minorities and/or marginalized communities in fiction has gained traction only in the past few years (\\[1\\], \\[2\\], \\[3\\], \\[4\\]). With increasing focus on better representation, it is important to make sure that we are making progress on all fronts.\n",
    "\n",
    "One rather well-known test for evaluating women representation in fiction is the [Bechdel test](https://en.wikipedia.org/wiki/Bechdel_test). It asks whether _at least two women who talk to each other about something other than a man._\n",
    "\n",
    "The test is ambiguous in many regards, and indeed, the results are known to vary depending on how rigorously the test is applied. If we use the definition as \"at least one such conversation\", then the bar is too low, and allows a lot of works to pass the test even if they have poor women representation. On the other hand, if a long, meaningful conversation between two women just happens to mention a man in passing, it shouldn't invalidate the entire exchange.\n",
    "\n",
    "Further, there have definitely been attempts to automate the test (\\[5\\], \\[6\\]). However, these agree that:\n",
    "1. It is challenging to claim with high confidence whether or not a piece of fiction passes the test, often because of varying levels of rigor can alter the result\n",
    "2. No methodology exists for performing this test at scale.\n",
    "\n",
    "In this notebook, I attempt to analyze popular 19th century works of literature w.r.t. the Bechdel test. I hope to answer two primary questions:\n",
    "\n",
    "**RQ1: Do popular works of literature pass the Bechdel test, and to what extent?**  \n",
    "**RQ2: What gaps exist in current tools, techniques and methodologies that may hinder us from answering sociological questions such as this one, at scale?**\n",
    "\n",
    "In the process, I wish to validate the following hypothesis:\n",
    "\n",
    "**Even with the current state-of-the-art, It is inadvisable to try to scale sociological tests such as the Bechdel test using complete automation and/or machine learning. Instead, an iterative, interactive and qualitative analysis for each novel needs to be performed, due to the many nuances of a test such as this.**"
   ]
  },
  {
   "cell_type": "markdown",
   "metadata": {},
   "source": [
    "## Why Does This Matter"
   ]
  },
  {
   "cell_type": "markdown",
   "metadata": {},
   "source": [
    "> _It's in literature that true life can be found. It's under the mask of fiction that you can tell the truth._  \n",
    "> &nbsp;&nbsp;&nbsp;&nbsp;&nbsp;&nbsp;&nbsp;&nbsp;&nbsp;&nbsp;&nbsp;&nbsp;&nbsp;&nbsp;&nbsp;&nbsp;&nbsp;&nbsp;&nbsp;&nbsp;&nbsp;&nbsp;&nbsp;&nbsp;&nbsp;&nbsp;&nbsp;&nbsp;&nbsp;&nbsp;&nbsp;&nbsp;&nbsp;&nbsp;&nbsp;&nbsp;&nbsp;&nbsp;&nbsp;&nbsp;&nbsp;&nbsp;&nbsp;&nbsp;&nbsp;&nbsp;&nbsp;&nbsp;&nbsp;&nbsp;&nbsp;&nbsp;&nbsp;&nbsp;&nbsp;&nbsp;&nbsp;&nbsp;&nbsp;&nbsp;&nbsp;&nbsp;&nbsp;&nbsp;&nbsp;&nbsp;&nbsp;&nbsp;&nbsp;&nbsp;&nbsp;&nbsp;&nbsp;&nbsp;&nbsp;&nbsp;&nbsp;&nbsp;&nbsp;&nbsp;&nbsp;&nbsp;&nbsp;&nbsp;&nbsp;&nbsp;&nbsp;&nbsp;&nbsp;&nbsp;&nbsp;&nbsp;&nbsp;&nbsp;&nbsp;&nbsp;&nbsp;&nbsp;&nbsp;&nbsp;&nbsp;&nbsp;&nbsp;&nbsp;&nbsp;&nbsp;&nbsp;&nbsp;&nbsp;&nbsp;&nbsp;&nbsp;&nbsp;&nbsp;&nbsp;&nbsp;&nbsp;&nbsp;&nbsp;&nbsp;&nbsp;&nbsp;&nbsp;&nbsp;&nbsp;&nbsp;&nbsp;&nbsp;&nbsp;&nbsp;&nbsp;&nbsp;&nbsp;&nbsp;&nbsp;&nbsp;&nbsp;&nbsp;&nbsp;&nbsp;- Gao Xignjian"
   ]
  },
  {
   "cell_type": "markdown",
   "metadata": {},
   "source": [
    "I have been an avid and voracious reader ever since the age of 12. I find books to be a fantastic source of knowledge, information and personal growth. Whether it is fictional, biographical or historical, a good novel captivates you, pulls you from the physical realm into itself. Further still, I believe that works of fiction often captures the true nature of society. They either reflect on the world, as it is, or what it might become. Either consciously or subconsciously, the worlds created by a writer capture their perspective. \n",
    "\n",
    "As children, we have grown up on novels such as Alice in Wonderland, Harry Potter and the ilk. If there indeed exist biases, be it w.r.t. representation of women or any other minorities, these biases will be picked up at an early age through no fault of the child's. Thus it is important to have the ability to evaluate works of fiction for the presence of bias."
   ]
  },
  {
   "cell_type": "markdown",
   "metadata": {},
   "source": [
    "## Reproducibility"
   ]
  },
  {
   "cell_type": "markdown",
   "metadata": {},
   "source": [
    "While each independent notebook is completely reproducible, due to the qualitative nature of the analyses, it is not possible to replicate the research _as is_ for any arbitrary novel. Instead, I recommmend using the template notebook in the repository (ref), and modifying it to suit the novel at hand."
   ]
  },
  {
   "cell_type": "markdown",
   "metadata": {},
   "source": [
    "## Analyzing Pride and Prejudice"
   ]
  },
  {
   "cell_type": "markdown",
   "metadata": {},
   "source": [
    "### Getting Started"
   ]
  },
  {
   "cell_type": "markdown",
   "metadata": {},
   "source": [
    "First off, let's import all the libraries that we need:"
   ]
  },
  {
   "cell_type": "code",
   "execution_count": 1,
   "metadata": {
    "ExecuteTime": {
     "end_time": "2018-12-10T06:21:45.571096Z",
     "start_time": "2018-12-10T06:21:45.562248Z"
    }
   },
   "outputs": [],
   "source": [
    "import json\n",
    "from collections import defaultdict, Counter\n",
    "\n",
    "from unidecode import unidecode"
   ]
  },
  {
   "cell_type": "markdown",
   "metadata": {},
   "source": [
    "We load a small utility module that has some basic text processing and convenience functions:"
   ]
  },
  {
   "cell_type": "code",
   "execution_count": 2,
   "metadata": {
    "ExecuteTime": {
     "end_time": "2018-12-10T06:21:46.489792Z",
     "start_time": "2018-12-10T06:21:45.574255Z"
    }
   },
   "outputs": [
    {
     "name": "stdout",
     "output_type": "stream",
     "text": [
      "Help on module bechdel_utils:\n",
      "\n",
      "NAME\n",
      "    bechdel_utils\n",
      "\n",
      "FUNCTIONS\n",
      "    about_man(s, gender_dict)\n",
      "        Return a dictionary of gender to relative frequency of mention/reference\n",
      "    \n",
      "    compress(speakers, talks)\n",
      "        Reduce consecutive dialogue by the same person into single records\n",
      "    \n",
      "    prettify(name)\n",
      "        Properly capitalize a name\n",
      "        \n",
      "        >>> prettify(\"edgar ATHELING\")\n",
      "        \"Edgar Atheling\"\n",
      "    \n",
      "    resolve(speakers, coreferents, who)\n",
      "        Resolve coreferents.\n",
      "\n",
      "DATA\n",
      "    FEMALE_INDICATORS = {'girl', 'her', 'hers', 'she', 'woman'}\n",
      "    MALE_INDICATORS = {'boy', 'he', 'him', 'his', 'man'}\n",
      "\n",
      "FILE\n",
      "    /Users/havan/Dropbox/CP/Git/data-512-final-project/bechdel_utils.py\n",
      "\n",
      "\n"
     ]
    }
   ],
   "source": [
    "import bechdel_utils\n",
    "from bechdel_utils import *\n",
    "help(bechdel_utils)"
   ]
  },
  {
   "cell_type": "code",
   "execution_count": 3,
   "metadata": {
    "ExecuteTime": {
     "end_time": "2018-12-10T06:21:47.028521Z",
     "start_time": "2018-12-10T06:21:46.492586Z"
    }
   },
   "outputs": [],
   "source": [
    "%matplotlib inline\n",
    "import matplotlib.pyplot as plt\n",
    "import numpy as np\n",
    "import pandas as pd"
   ]
  },
  {
   "cell_type": "code",
   "execution_count": 4,
   "metadata": {
    "ExecuteTime": {
     "end_time": "2018-12-10T06:21:47.035201Z",
     "start_time": "2018-12-10T06:21:47.030813Z"
    }
   },
   "outputs": [
    {
     "name": "stdout",
     "output_type": "stream",
     "text": [
      "Pretty printing has been turned OFF\n"
     ]
    }
   ],
   "source": [
    "# Shut off pretty printing to save on space and keep the notebook concise\n",
    "%pprint"
   ]
  },
  {
   "cell_type": "markdown",
   "metadata": {},
   "source": [
    "We need to determine conversations, speakers and their genders. While this step may vary sometimes (since it may be simpler to not use machine learning for certain novels such as Hamlet), typically it is best to use the StanfordNER package to generate a JSON file that has the required details:"
   ]
  },
  {
   "cell_type": "markdown",
   "metadata": {},
   "source": [
    "```bash\n",
    "java -Xmx10g -cp \"stanford-corenlp-full-2018-10-05/*\" edu.stanford.nlp.pipeline.StanfordCoreNLP -annotators tokenize,ssplit,pos,lemma,ner,depparse,coref,quote -file novels/pride-and-prejudice.txt -outputFormat json\n",
    "```"
   ]
  },
  {
   "cell_type": "markdown",
   "metadata": {},
   "source": [
    "This will generate a JSON file, whose structure schema can be found [here](). We use this JSON file as input:"
   ]
  },
  {
   "cell_type": "code",
   "execution_count": 5,
   "metadata": {
    "ExecuteTime": {
     "end_time": "2018-12-10T06:21:48.664168Z",
     "start_time": "2018-12-10T06:21:47.037549Z"
    }
   },
   "outputs": [
    {
     "data": {
      "text/plain": [
       "dict_keys(['docId', 'sentences', 'corefs', 'quotes'])"
      ]
     },
     "execution_count": 5,
     "metadata": {},
     "output_type": "execute_result"
    }
   ],
   "source": [
    "book = json.load(open(\"annotated/pride-and-prejudice-whole.txt.json\"))\n",
    "book.keys()"
   ]
  },
  {
   "cell_type": "markdown",
   "metadata": {},
   "source": [
    "A brief description of the fields:\n",
    "\n",
    "| field     | meaning |\n",
    "|-----------|------------------------|\n",
    "| docId     | Name of the input file |\n",
    "| sentences | An array of sentences broken into a lexical tree |\n",
    "| corefs    | A dictionary caontaining coreferents, and the entity they refer to, along with the position in text |\n",
    "| quotes    | A list of spoken sentences, along with the speaker's name |"
   ]
  },
  {
   "cell_type": "markdown",
   "metadata": {},
   "source": [
    "## 1. Two Women..."
   ]
  },
  {
   "cell_type": "markdown",
   "metadata": {},
   "source": [
    "First, we find all named entities in the novel:"
   ]
  },
  {
   "cell_type": "code",
   "execution_count": 6,
   "metadata": {
    "ExecuteTime": {
     "end_time": "2018-12-10T06:21:48.686382Z",
     "start_time": "2018-12-10T06:21:48.666033Z"
    }
   },
   "outputs": [],
   "source": [
    "people = set()\n",
    "for sentence in book['sentences']:\n",
    "    for mention in sentence['entitymentions']:\n",
    "        if mention['ner'] == 'PERSON':\n",
    "            name = prettify(mention['text'])\n",
    "            people.add(name)"
   ]
  },
  {
   "cell_type": "markdown",
   "metadata": {},
   "source": [
    "Let's look at a random sample of these:"
   ]
  },
  {
   "cell_type": "code",
   "execution_count": 7,
   "metadata": {
    "ExecuteTime": {
     "end_time": "2018-12-10T06:21:48.701487Z",
     "start_time": "2018-12-10T06:21:48.688321Z"
    }
   },
   "outputs": [
    {
     "data": {
      "text/plain": [
       "{'Charlotte', 'Netherfield', 'Jenkinson', 'Hatfield', 'Elizabeth', 'Bakewell', 'Carter', 'Poor Reynolds', 'Darcy', 'Georgiana'}"
      ]
     },
     "execution_count": 7,
     "metadata": {},
     "output_type": "execute_result"
    }
   ],
   "source": [
    "import random\n",
    "random.seed(1436)\n",
    "{random.choice(list(people)) for _ in range(10)}"
   ]
  },
  {
   "cell_type": "markdown",
   "metadata": {},
   "source": [
    "The `canonicalSpeaker` field contains a reference to the original speaker entity, which is useful when the `speaker` field contains a pronoun:"
   ]
  },
  {
   "cell_type": "code",
   "execution_count": 8,
   "metadata": {
    "ExecuteTime": {
     "end_time": "2018-12-10T06:21:48.720686Z",
     "start_time": "2018-12-10T06:21:48.706755Z"
    }
   },
   "outputs": [],
   "source": [
    "speakers = [prettify(s['speaker']) for s in book[\"quotes\"]]\n",
    "canonical_speakers = [prettify(s['canonicalSpeaker']) for s in book[\"quotes\"]]\n",
    "talks = [unidecode(s['text']) for s in book['quotes']]"
   ]
  },
  {
   "cell_type": "markdown",
   "metadata": {},
   "source": [
    "A quick example of how the canonicalSpeaker field can help:"
   ]
  },
  {
   "cell_type": "code",
   "execution_count": 9,
   "metadata": {
    "ExecuteTime": {
     "end_time": "2018-12-10T06:21:48.731607Z",
     "start_time": "2018-12-10T06:21:48.725502Z"
    }
   },
   "outputs": [
    {
     "data": {
      "text/plain": [
       "('Unknown', 'Elizabeth Bennet', '\"What does Mr. Darcy mean,\"')"
      ]
     },
     "execution_count": 9,
     "metadata": {},
     "output_type": "execute_result"
    }
   ],
   "source": [
    "unknown_speaker = {'She', 'Her', 'He', 'Him', 'His', 'Unknown'}\n",
    "[c for c in zip(speakers, canonical_speakers, talks) if c[0] in unknown_speaker and c[1] not in unknown_speaker][10]"
   ]
  },
  {
   "cell_type": "code",
   "execution_count": 10,
   "metadata": {
    "ExecuteTime": {
     "end_time": "2018-12-10T06:21:48.738321Z",
     "start_time": "2018-12-10T06:21:48.733581Z"
    }
   },
   "outputs": [],
   "source": [
    "unknown_speaker = {'She', 'Her', 'He', 'Him', 'His', 'Unknown'}\n",
    "for i in range(len(speakers)):\n",
    "    if speakers[i] in unknown_speaker and canonical_speakers[i] not in unknown_speaker:\n",
    "        speakers[i] = prettify(canonical_speakers[i])"
   ]
  },
  {
   "cell_type": "code",
   "execution_count": 11,
   "metadata": {
    "ExecuteTime": {
     "end_time": "2018-12-10T06:21:48.744458Z",
     "start_time": "2018-12-10T06:21:48.740435Z"
    }
   },
   "outputs": [
    {
     "data": {
      "text/plain": [
       "{'Unknown', 'Rosings', 'Him', 'Wickham', 'Pemberley', 'Miss De Bourgh', 'Collins', 'Bennet', 'Longbourn', 'Charlotte', 'His', 'Lady Catherine', 'Elizabeth Bennet', 'Maria', 'Jane', 'Miss Eliza', 'Fitzwilliam', 'Denny', 'Hill', 'Housekeeper', 'Butler', 'James', 'Lady Lucas', 'Meryton', 'Miss Bingley', 'Elizabeth: ``lizzy', 'Catherine', 'Bingley', 'Gardiner', 'Her', 'Mary', 'Lucas', 'Charles', 'She', 'Phillips', 'Reynolds', 'Companion', 'Caroline', 'Lizzy', 'Forster', 'He', 'Elizabeth', 'Lydia', 'Netherfield', 'Miller', 'Charlotte Lucas', 'Hurst', 'Miss Bennet', 'Kitty', 'Darcy', 'William'}"
      ]
     },
     "execution_count": 11,
     "metadata": {},
     "output_type": "execute_result"
    }
   ],
   "source": [
    "set(speakers)"
   ]
  },
  {
   "cell_type": "markdown",
   "metadata": {},
   "source": [
    "Since a single person can have many [coreferents](https://en.wikipedia.org/wiki/Coreference), and the algorithm is not great at identifying all of them, we try to fix a few:"
   ]
  },
  {
   "cell_type": "code",
   "execution_count": 12,
   "metadata": {
    "ExecuteTime": {
     "end_time": "2018-12-10T06:21:48.752332Z",
     "start_time": "2018-12-10T06:21:48.746298Z"
    }
   },
   "outputs": [],
   "source": [
    "resolve(speakers, {\"Elizabeth: ``lizzy\", \"Elizabeth\", \"Lizzy\", \"Dear Lizzy\"}, \"Elizabeth Bennet\")\n",
    "resolve(speakers, {\"Bingley\", \"Miss. Bingley\"}, \"Miss Bingley\")\n",
    "resolve(speakers, {\"Charlotte\"}, \"Charlotte Lucas\")\n",
    "resolve(speakers, {\"Catherine\"}, \"Lady Catherine\")\n",
    "resolve(speakers, {\"Fitzwilliam\", \"Darcy\"}, \"Fitzwilliam Darcy\")\n",
    "resolve(speakers, {\"Miss Darcy\"}, \"Georgiana Darcy\")"
   ]
  },
  {
   "cell_type": "code",
   "execution_count": 13,
   "metadata": {
    "ExecuteTime": {
     "end_time": "2018-12-10T06:21:48.760114Z",
     "start_time": "2018-12-10T06:21:48.754542Z"
    }
   },
   "outputs": [
    {
     "data": {
      "text/plain": [
       "{'Unknown', 'Rosings', 'Him', 'Wickham', 'Pemberley', 'Miss De Bourgh', 'Collins', 'Bennet', 'Longbourn', 'His', 'Lady Catherine', 'Elizabeth Bennet', 'Maria', 'Jane', 'Miss Eliza', 'Denny', 'Hill', 'Housekeeper', 'Butler', 'James', 'Lady Lucas', 'Meryton', 'Miss Bingley', 'Gardiner', 'Her', 'Mary', 'Lucas', 'She', 'Phillips', 'Reynolds', 'Companion', 'Caroline', 'Netherfield', 'Forster', 'He', 'Miller', 'Lydia', 'Charlotte Lucas', 'Hurst', 'Fitzwilliam Darcy', 'Miss Bennet', 'Kitty', 'Charles', 'William'}"
      ]
     },
     "execution_count": 13,
     "metadata": {},
     "output_type": "execute_result"
    }
   ],
   "source": [
    "set(speakers)"
   ]
  },
  {
   "cell_type": "markdown",
   "metadata": {},
   "source": [
    "### Fixing Misattributions"
   ]
  },
  {
   "cell_type": "code",
   "execution_count": 14,
   "metadata": {
    "ExecuteTime": {
     "end_time": "2018-12-10T06:21:48.770861Z",
     "start_time": "2018-12-10T06:21:48.762635Z"
    }
   },
   "outputs": [],
   "source": [
    "def who_said_what(who):\n",
    "    for i, s in enumerate(speakers):\n",
    "        if s == who:\n",
    "            talk = talks[i]\n",
    "            if len(talk) > 100:\n",
    "                talk = talk[:50] + \"...\" + talk[-50:]\n",
    "            print(i, talk)\n",
    "            print()"
   ]
  },
  {
   "cell_type": "markdown",
   "metadata": {
    "ExecuteTime": {
     "end_time": "2018-12-09T22:11:44.738447Z",
     "start_time": "2018-12-09T22:11:44.733614Z"
    }
   },
   "source": [
    "Rosings, Longbourn, Netherfield, Meryton and Pemberly are simply locations or estates, so they should ideally not have any speech attributed to them"
   ]
  },
  {
   "cell_type": "code",
   "execution_count": 15,
   "metadata": {
    "ExecuteTime": {
     "end_time": "2018-12-10T06:21:48.776922Z",
     "start_time": "2018-12-10T06:21:48.773061Z"
    }
   },
   "outputs": [
    {
     "name": "stdout",
     "output_type": "stream",
     "text": [
      "831 \"that I should not have been at all surprised by h...e whole party) so immediately after your arrival!\"\n",
      "\n",
      "983 \"Be not alarmed, madam, on receiving this letter, ... will only add, God bless you. \"FITZWILLIAM DARCY\"\n",
      "\n"
     ]
    }
   ],
   "source": [
    "who_said_what(\"Rosings\")"
   ]
  },
  {
   "cell_type": "markdown",
   "metadata": {},
   "source": [
    "The first is said by Mr Collins, the other is a letter indeed from the Rosings estate, but is written by Mr Darcy (Fitzwilliam), and so we attribute it to him:"
   ]
  },
  {
   "cell_type": "code",
   "execution_count": 16,
   "metadata": {
    "ExecuteTime": {
     "end_time": "2018-12-10T06:21:48.782515Z",
     "start_time": "2018-12-10T06:21:48.779097Z"
    }
   },
   "outputs": [],
   "source": [
    "speakers[831] = \"Collins\"\n",
    "speakers[983] = \"Fitzwilliam Darcy\""
   ]
  },
  {
   "cell_type": "code",
   "execution_count": 17,
   "metadata": {
    "ExecuteTime": {
     "end_time": "2018-12-10T06:21:48.788539Z",
     "start_time": "2018-12-10T06:21:48.784602Z"
    }
   },
   "outputs": [
    {
     "name": "stdout",
     "output_type": "stream",
     "text": [
      "797 \"I am now convinced, my dear aunt, that I have nev...t have something to live on as well as the plain.\"\n",
      "\n",
      "1545 \"If you were to give me forty such men, I never co...uck, I may meet with another Mr. Collins in time.\"\n",
      "\n",
      "1733 \"My real purpose was to see _you_, and to judge, i...ke the confession to him which I have since made.\"\n",
      "\n"
     ]
    }
   ],
   "source": [
    "who_said_what(\"Longbourn\")"
   ]
  },
  {
   "cell_type": "code",
   "execution_count": 18,
   "metadata": {
    "ExecuteTime": {
     "end_time": "2018-12-10T06:21:48.795286Z",
     "start_time": "2018-12-10T06:21:48.791965Z"
    }
   },
   "outputs": [],
   "source": [
    "speakers[797] = speakers[1545] = \"Elizabeth Bennet\"\n",
    "speakers[1733] = \"Fitzwilliam Darcy\""
   ]
  },
  {
   "cell_type": "code",
   "execution_count": 19,
   "metadata": {
    "ExecuteTime": {
     "end_time": "2018-12-10T06:21:48.800908Z",
     "start_time": "2018-12-10T06:21:48.797429Z"
    }
   },
   "outputs": [
    {
     "name": "stdout",
     "output_type": "stream",
     "text": [
      "392 \"If you mean Darcy,\"\n",
      "\n",
      "393 \"he may go to bed, if he chooses, before it begins...e white soup enough, I shall send round my cards.\"\n",
      "\n"
     ]
    }
   ],
   "source": [
    "who_said_what(\"Netherfield\")"
   ]
  },
  {
   "cell_type": "code",
   "execution_count": 20,
   "metadata": {
    "ExecuteTime": {
     "end_time": "2018-12-10T06:21:48.805269Z",
     "start_time": "2018-12-10T06:21:48.802866Z"
    }
   },
   "outputs": [],
   "source": [
    "speakers[392] = speakers[393] = \"Charles\""
   ]
  },
  {
   "cell_type": "code",
   "execution_count": 21,
   "metadata": {
    "ExecuteTime": {
     "end_time": "2018-12-10T06:21:48.810555Z",
     "start_time": "2018-12-10T06:21:48.807230Z"
    }
   },
   "outputs": [
    {
     "name": "stdout",
     "output_type": "stream",
     "text": [
      "141 \"With great energy; but it is always a subject which makes a lady energetic.\"\n",
      "\n",
      "142 \"You are severe on us.\"\n",
      "\n"
     ]
    }
   ],
   "source": [
    "who_said_what(\"Meryton\")"
   ]
  },
  {
   "cell_type": "code",
   "execution_count": 22,
   "metadata": {
    "ExecuteTime": {
     "end_time": "2018-12-10T06:21:48.816164Z",
     "start_time": "2018-12-10T06:21:48.812841Z"
    }
   },
   "outputs": [],
   "source": [
    "speakers[141] = \"Fitzwilliam Darcy\"\n",
    "speakers[142] = \"Elizabeth Bennet\""
   ]
  },
  {
   "cell_type": "code",
   "execution_count": 23,
   "metadata": {
    "ExecuteTime": {
     "end_time": "2018-12-10T06:21:48.821664Z",
     "start_time": "2018-12-10T06:21:48.818208Z"
    }
   },
   "outputs": [
    {
     "name": "stdout",
     "output_type": "stream",
     "text": [
      "1652 \"I cannot give you credit for any philosophy of th...nsions to please a woman worthy of being pleased.\"\n",
      "\n"
     ]
    }
   ],
   "source": [
    "who_said_what(\"Pemberley\")"
   ]
  },
  {
   "cell_type": "code",
   "execution_count": 24,
   "metadata": {
    "ExecuteTime": {
     "end_time": "2018-12-10T06:21:48.826352Z",
     "start_time": "2018-12-10T06:21:48.823662Z"
    }
   },
   "outputs": [],
   "source": [
    "speakers[1652] = \"Fitzwilliam Darcy\""
   ]
  },
  {
   "cell_type": "markdown",
   "metadata": {},
   "source": [
    "### Gender Determination"
   ]
  },
  {
   "cell_type": "markdown",
   "metadata": {},
   "source": [
    "Next, we extract the genders of all known entities from the novel"
   ]
  },
  {
   "cell_type": "code",
   "execution_count": 25,
   "metadata": {
    "ExecuteTime": {
     "end_time": "2018-12-10T06:21:49.679090Z",
     "start_time": "2018-12-10T06:21:48.828532Z"
    }
   },
   "outputs": [
    {
     "data": {
      "text/plain": [
       "defaultdict(<class 'str'>, {'She': 'FEMALE', 'Her': 'FEMALE', 'Kitty': 'FEMALE', 'Him': 'MALE', 'Mary': 'FEMALE', 'His': 'MALE', 'He': 'MALE', 'Lydia': 'FEMALE', 'Miss Bingley': 'FEMALE', 'Miss Bennet': 'FEMALE', 'Lady Catherine': 'FEMALE', 'Lady Lucas': 'FEMALE', 'Jane': 'FEMALE', 'Caroline': 'FEMALE', 'Wickham': 'UNKNOWN', 'Charles': 'MALE', 'Charlotte Lucas': 'MALE', 'Miss De Bourgh': 'MALE', 'Elizabeth Bennet': 'FEMALE', 'Denny': 'MALE', 'Miss Eliza': 'FEMALE', 'Maria': 'FEMALE', 'Forster': 'MALE', 'Lucas': 'MALE', 'Hill': 'MALE'})"
      ]
     },
     "execution_count": 25,
     "metadata": {},
     "output_type": "execute_result"
    }
   ],
   "source": [
    "gender_dict = defaultdict(str)\n",
    "for _, corefs in book['corefs'].items():\n",
    "    for refs in corefs:\n",
    "        name = prettify(refs['text'])\n",
    "        gender = refs['gender']\n",
    "        if name in set(speakers):\n",
    "            gender_dict[name] = gender\n",
    "            \n",
    "gender_dict"
   ]
  },
  {
   "cell_type": "markdown",
   "metadata": {},
   "source": [
    "We can see one person's gender is unknown, which we can correct:"
   ]
  },
  {
   "cell_type": "code",
   "execution_count": 26,
   "metadata": {
    "ExecuteTime": {
     "end_time": "2018-12-10T06:21:49.685116Z",
     "start_time": "2018-12-10T06:21:49.681243Z"
    }
   },
   "outputs": [],
   "source": [
    "gender_dict.update({\n",
    "    \"Wickham\": \"MALE\",\n",
    "})"
   ]
  },
  {
   "cell_type": "markdown",
   "metadata": {},
   "source": [
    "It'll be interesting to visualize the gender ratios at this stage:"
   ]
  },
  {
   "cell_type": "code",
   "execution_count": 27,
   "metadata": {
    "ExecuteTime": {
     "end_time": "2018-12-10T06:21:50.147228Z",
     "start_time": "2018-12-10T06:21:49.689982Z"
    }
   },
   "outputs": [
    {
     "data": {
      "image/png": "[encoded data removed]",
      "text/plain": [
       "<matplotlib.figure.Figure object at 0x1a22031908>"
      ]
     },
     "metadata": {},
     "output_type": "display_data"
    }
   ],
   "source": [
    "gender_counts = Counter(gender_dict.values())\n",
    "plt.figure(figsize=(8, 8))\n",
    "plt.bar(gender_counts.keys(), gender_counts.values(), color=['#0097e6', '#e84118'])\n",
    "plt.title(\"Gender Frequencies\")\n",
    "plt.grid()"
   ]
  },
  {
   "cell_type": "code",
   "execution_count": 28,
   "metadata": {
    "ExecuteTime": {
     "end_time": "2018-12-10T06:21:50.162561Z",
     "start_time": "2018-12-10T06:21:50.152123Z"
    }
   },
   "outputs": [],
   "source": [
    "def female(s):\n",
    "    return gender_dict[s] == \"FEMALE\"\n",
    "\n",
    "def male(s):\n",
    "    return gender_dict[s] == \"MALE\"\n",
    "\n",
    "def unknown(s):\n",
    "    return gender_dict[s] == \"UNKNOWN\"\n",
    "\n",
    "def neutral(s):\n",
    "    return gender_dict[s] == \"NEUTRAL\""
   ]
  },
  {
   "cell_type": "markdown",
   "metadata": {},
   "source": [
    "## 2. Talk to Each Other..."
   ]
  },
  {
   "cell_type": "markdown",
   "metadata": {},
   "source": [
    "We will use a simple heuristic for determining if two people are talking to each other:\n",
    "1. P1 talks\n",
    "2. P2 Talks\n",
    "3. P1 Talks\n",
    "\n",
    "i.e. we try to find triplets (p1, p2, p1), and assume that p1 and p2 are cognizant of one another, and are talking to each other."
   ]
  },
  {
   "cell_type": "markdown",
   "metadata": {},
   "source": [
    "### Creating Triplets\n",
    "\n",
    "This needs two passes:\n",
    "1. We need to compress a speaker who is speaking continuously into a single instance\n",
    "2. We then look for triplet occurrences, and store them as ordered pairsaa"
   ]
  },
  {
   "cell_type": "code",
   "execution_count": 29,
   "metadata": {
    "ExecuteTime": {
     "end_time": "2018-12-10T06:21:50.176790Z",
     "start_time": "2018-12-10T06:21:50.165534Z"
    }
   },
   "outputs": [],
   "source": [
    "compressed_speakers, compressed_talks = compress(speakers, talks)"
   ]
  },
  {
   "cell_type": "code",
   "execution_count": 30,
   "metadata": {
    "ExecuteTime": {
     "end_time": "2018-12-10T06:21:50.196604Z",
     "start_time": "2018-12-10T06:21:50.185445Z"
    }
   },
   "outputs": [
    {
     "data": {
      "text/plain": [
       "['', 'His', 'Bennet', 'Kitty', 'Bennet', 'His', 'Unknown', 'Miss Bingley', 'Her', 'Him', 'His', 'William', 'Elizabeth Bennet', 'Unknown', 'His', 'Her', 'Bennet', 'Her', 'Him', 'Elizabeth Bennet', 'Her', 'Bennet', 'Her', 'Kitty', 'Elizabeth Bennet', 'Her', 'Him', 'Her', 'Him', 'Bennet', 'Unknown', 'Mary', 'His', 'Kitty', 'Bennet', 'Mary', 'Lydia', 'Bennet', 'Lady Lucas', 'Fitzwilliam Darcy']"
      ]
     },
     "execution_count": 30,
     "metadata": {},
     "output_type": "execute_result"
    }
   ],
   "source": [
    "compressed_speakers[:40]"
   ]
  },
  {
   "cell_type": "code",
   "execution_count": 31,
   "metadata": {
    "ExecuteTime": {
     "end_time": "2018-12-10T06:21:50.216125Z",
     "start_time": "2018-12-10T06:21:50.200490Z"
    }
   },
   "outputs": [
    {
     "name": "stdout",
     "output_type": "stream",
     "text": [
      "Bennet:\thave you heard that Netherfield Park is let at last?\n",
      "Kitty:\tBut it is, for Mrs. Long has just been here, and she told me all about it.\n",
      "Bennet:\tDo you not want to know who has taken it?\n"
     ]
    }
   ],
   "source": [
    "for c in zip(compressed_speakers[2:5], compressed_talks[2:5]):\n",
    "    print(\":\\t\".join(c))"
   ]
  },
  {
   "cell_type": "markdown",
   "metadata": {},
   "source": [
    "Now that we have the compressed dialog, we can create triplets. The way we will do this is:\n",
    "\n",
    "1. Find a triplet that satisfies the conversation criteria\n",
    "2. Order the speakers lexicographically into an ordered pair\n",
    "3. Key into this pair and store all text that they speak to each other."
   ]
  },
  {
   "cell_type": "code",
   "execution_count": 32,
   "metadata": {
    "ExecuteTime": {
     "end_time": "2018-12-10T06:21:50.247515Z",
     "start_time": "2018-12-10T06:21:50.222130Z"
    }
   },
   "outputs": [],
   "source": [
    "p1 = list(compressed_speakers)\n",
    "p2 = list(compressed_speakers[1:])\n",
    "p3 = list(compressed_speakers[2:])\n",
    "\n",
    "t1 = list(compressed_talks)\n",
    "t2 = list(compressed_talks[1:])\n",
    "t3 = list(compressed_talks[2:])\n",
    "\n",
    "triplet_speakers = list(zip(p1, p2, p3))\n",
    "triplet_talks = list(zip(t1, t2, t3))"
   ]
  },
  {
   "cell_type": "markdown",
   "metadata": {},
   "source": [
    "### Creating Conversations"
   ]
  },
  {
   "cell_type": "code",
   "execution_count": 33,
   "metadata": {
    "ExecuteTime": {
     "end_time": "2018-12-10T06:21:50.267684Z",
     "start_time": "2018-12-10T06:21:50.255301Z"
    }
   },
   "outputs": [],
   "source": [
    "conversations = defaultdict(set)\n",
    "\n",
    "for spkrs, tlks in zip(triplet_speakers, triplet_talks):\n",
    "    s1, s2, s3 = spkrs\n",
    "    if s1 == s3:\n",
    "        key = tuple(sorted([s1, s2]))\n",
    "        conversations[key] |= set(tlks)"
   ]
  },
  {
   "cell_type": "code",
   "execution_count": 34,
   "metadata": {
    "ExecuteTime": {
     "end_time": "2018-12-10T06:21:50.283059Z",
     "start_time": "2018-12-10T06:21:50.272385Z"
    }
   },
   "outputs": [
    {
     "data": {
      "text/plain": [
       "'And of your infliction, You have reduced him to his present state of poverty--comparative poverty. You have withheld the advantages which you must know to have been designed for him. You have deprived the best years of his life of that independence which was no less his due than his desert. You have done all this! and yet you can treat the mention of his misfortune with contempt and ridicule.'"
      ]
     },
     "execution_count": 34,
     "metadata": {},
     "output_type": "execute_result"
    }
   ],
   "source": [
    "random.seed(1436)\n",
    "random.choice(list(conversations[('Elizabeth Bennet', 'Fitzwilliam Darcy')]))"
   ]
  },
  {
   "cell_type": "markdown",
   "metadata": {},
   "source": [
    "## 3. About Something Other Than A Man?"
   ]
  },
  {
   "cell_type": "markdown",
   "metadata": {},
   "source": [
    "We now need to determine if a conversation is about a man. We can use a few naive cues to determine this:\n",
    "1. Presence of a name whose gender is known to be a man:\n",
    "2. Presence of the words \"he\", \"him\", \"his\", and other similar words referring to a man:"
   ]
  },
  {
   "cell_type": "code",
   "execution_count": 35,
   "metadata": {
    "ExecuteTime": {
     "end_time": "2018-12-10T06:21:50.301559Z",
     "start_time": "2018-12-10T06:21:50.287964Z"
    }
   },
   "outputs": [
    {
     "name": "stdout",
     "output_type": "stream",
     "text": [
      "A man who has once been refused! How could I ever be foolish enough to expect a renewal of his love? Is there one among the sex, who would not protest against such a weakness as a second proposal to the same woman? There is no indignity so abhorrent to their feelings!\n",
      "{'MALE': 0.03508771929824561, 'FEMALE': 0.017543859649122806}\n",
      "\n",
      "And of your infliction, You have reduced him to his present state of poverty--comparative poverty. You have withheld the advantages which you must know to have been designed for him. You have deprived the best years of his life of that independence which was no less his due than his desert. You have done all this! and yet you can treat the mention of his misfortune with contempt and ridicule.\n",
      "{'MALE': 0.08974358974358974, 'FEMALE': 0.0}\n",
      "\n",
      "And so ended his affection, There has been many a one, I fancy, overcome in the same way. I wonder who first discovered the efficacy of poetry in driving away love!\n",
      "{'MALE': 0.027777777777777776, 'FEMALE': 0.0}\n",
      "\n",
      "And this,\n",
      "{'MALE': 0.0, 'FEMALE': 0.0}\n",
      "\n",
      "And which of the two do you call _my_ little recent piece of modesty? The indirect boast; for you are really proud of your defects in writing, because you consider them as proceeding from a rapidity of thought and carelessness of execution, which, if not estimable, you think at least highly interesting. The power of doing anything with quickness is always prized much by the possessor, and often without any attention to the imperfection of the performance. When you told Mrs. Bennet this morning that if you ever resolved upon quitting Netherfield you should be gone in five minutes, you meant it to be a sort of panegyric, of compliment to yourself--and yet what is there so very laudable in a precipitance which must leave very necessary business undone, and can be of no real advantage to yourself or anyone else?\n",
      "{'MALE': 0.0, 'FEMALE': 0.0}\n",
      "\n"
     ]
    }
   ],
   "source": [
    "elizabeth_darcy = sorted(list(conversations[('Elizabeth Bennet', 'Fitzwilliam Darcy')]))\n",
    "for i, conversation in enumerate(elizabeth_darcy[:5]):\n",
    "    print(conversation)\n",
    "    print(about_man(conversation, gender_dict))\n",
    "    print()"
   ]
  },
  {
   "cell_type": "markdown",
   "metadata": {},
   "source": [
    "Now that we have a way of determining the extent to which a conversation _might_ be about a man, we can continue to analyze conversations between women, and look at some potential trends:"
   ]
  },
  {
   "cell_type": "code",
   "execution_count": 36,
   "metadata": {
    "ExecuteTime": {
     "end_time": "2018-12-10T06:21:50.337417Z",
     "start_time": "2018-12-10T06:21:50.307121Z"
    }
   },
   "outputs": [],
   "source": [
    "female_conversations = []\n",
    "for p1, p2 in conversations:\n",
    "    if female(p1) and female(p2):\n",
    "        all_conversations = conversations[(p1, p2)]\n",
    "        for convo in all_conversations:\n",
    "            female_conversations.append(about_man(convo, gender_dict))"
   ]
  },
  {
   "cell_type": "code",
   "execution_count": 37,
   "metadata": {
    "ExecuteTime": {
     "end_time": "2018-12-10T06:21:50.387063Z",
     "start_time": "2018-12-10T06:21:50.342516Z"
    }
   },
   "outputs": [
    {
     "data": {
      "text/html": [
       "<div>\n",
       "<style scoped>\n",
       "    .dataframe tbody tr th:only-of-type {\n",
       "        vertical-align: middle;\n",
       "    }\n",
       "\n",
       "    .dataframe tbody tr th {\n",
       "        vertical-align: top;\n",
       "    }\n",
       "\n",
       "    .dataframe thead th {\n",
       "        text-align: right;\n",
       "    }\n",
       "</style>\n",
       "<table border=\"1\" class=\"dataframe\">\n",
       "  <thead>\n",
       "    <tr style=\"text-align: right;\">\n",
       "      <th></th>\n",
       "      <th>FEMALE</th>\n",
       "      <th>MALE</th>\n",
       "    </tr>\n",
       "  </thead>\n",
       "  <tbody>\n",
       "    <tr>\n",
       "      <th>count</th>\n",
       "      <td>155.000000</td>\n",
       "      <td>155.000000</td>\n",
       "    </tr>\n",
       "    <tr>\n",
       "      <th>mean</th>\n",
       "      <td>0.020859</td>\n",
       "      <td>0.022306</td>\n",
       "    </tr>\n",
       "    <tr>\n",
       "      <th>std</th>\n",
       "      <td>0.037020</td>\n",
       "      <td>0.034856</td>\n",
       "    </tr>\n",
       "    <tr>\n",
       "      <th>min</th>\n",
       "      <td>0.000000</td>\n",
       "      <td>0.000000</td>\n",
       "    </tr>\n",
       "    <tr>\n",
       "      <th>25%</th>\n",
       "      <td>0.000000</td>\n",
       "      <td>0.000000</td>\n",
       "    </tr>\n",
       "    <tr>\n",
       "      <th>50%</th>\n",
       "      <td>0.000000</td>\n",
       "      <td>0.000000</td>\n",
       "    </tr>\n",
       "    <tr>\n",
       "      <th>75%</th>\n",
       "      <td>0.025641</td>\n",
       "      <td>0.034287</td>\n",
       "    </tr>\n",
       "    <tr>\n",
       "      <th>max</th>\n",
       "      <td>0.166667</td>\n",
       "      <td>0.148936</td>\n",
       "    </tr>\n",
       "  </tbody>\n",
       "</table>\n",
       "</div>"
      ],
      "text/plain": [
       "           FEMALE        MALE\n",
       "count  155.000000  155.000000\n",
       "mean     0.020859    0.022306\n",
       "std      0.037020    0.034856\n",
       "min      0.000000    0.000000\n",
       "25%      0.000000    0.000000\n",
       "50%      0.000000    0.000000\n",
       "75%      0.025641    0.034287\n",
       "max      0.166667    0.148936"
      ]
     },
     "execution_count": 37,
     "metadata": {},
     "output_type": "execute_result"
    }
   ],
   "source": [
    "df = pd.DataFrame(female_conversations)\n",
    "df.describe()"
   ]
  },
  {
   "cell_type": "code",
   "execution_count": 38,
   "metadata": {
    "ExecuteTime": {
     "end_time": "2018-12-10T06:21:50.397301Z",
     "start_time": "2018-12-10T06:21:50.390874Z"
    }
   },
   "outputs": [
    {
     "data": {
      "text/plain": [
       "(0.28387096774193549, 0.30967741935483872)"
      ]
     },
     "execution_count": 38,
     "metadata": {},
     "output_type": "execute_result"
    }
   ],
   "source": [
    "(df.FEMALE > df.MALE).mean(), (df.MALE > df.FEMALE).mean()"
   ]
  },
  {
   "cell_type": "markdown",
   "metadata": {},
   "source": [
    "We see that ~28% of conversations between women refer more to women than to men, and ~31% refer to men more than men. The rest are neutral, i.e. they refer to men and women equally."
   ]
  },
  {
   "cell_type": "markdown",
   "metadata": {},
   "source": [
    "In the final visualization, we can plot each conversation as a data point, with each axis representing the extent to which the conversation is about males or females:"
   ]
  },
  {
   "cell_type": "code",
   "execution_count": 39,
   "metadata": {
    "ExecuteTime": {
     "end_time": "2018-12-10T06:21:50.623602Z",
     "start_time": "2018-12-10T06:21:50.400334Z"
    }
   },
   "outputs": [
    {
     "data": {
      "image/png": "[encoded data removed]",
      "text/plain": [
       "<matplotlib.figure.Figure object at 0x1a2af30828>"
      ]
     },
     "metadata": {},
     "output_type": "display_data"
    }
   ],
   "source": [
    "plt.rcParams['font.size'] = 12\n",
    "plt.figure(figsize=(8, 8))\n",
    "plt.scatter(df.MALE, df.FEMALE, marker='o', alpha=0.6)\n",
    "plt.grid()\n",
    "a = plt.gca()\n",
    "a.set_xlim((-0.01, 0.25))\n",
    "a.set_ylim((-0.01, 0.25))\n",
    "plt.xlabel(\"Male\")\n",
    "plt.ylabel(\"Female\")\n",
    "_ = plt.title(\"Ratio of Male to Female in Female-Female Conversations\")"
   ]
  },
  {
   "cell_type": "markdown",
   "metadata": {},
   "source": [
    "We can see that the line is closer to the male axis, with a slope of 1/4, meaning that on average, for every 4 conversations that are more male-centric, there is 1 female centric conversation (though this is a naive interpretation of the above data)."
   ]
  },
  {
   "cell_type": "markdown",
   "metadata": {},
   "source": [
    "## Other Novels"
   ]
  },
  {
   "cell_type": "markdown",
   "metadata": {},
   "source": [
    "We can perform a similar analysis for other novels, and the results are presented here directly from other notebooks:"
   ]
  },
  {
   "cell_type": "markdown",
   "metadata": {},
   "source": [
    "### [Alice in Wonderland](http://www.gutenberg.org/files/11/11-0.txt)"
   ]
  },
  {
   "cell_type": "markdown",
   "metadata": {},
   "source": [
    "> After a tumble down the rabbit hole, Alice finds herself far away from home in the absurd world of Wonderland. As mind-bending as it is delightful, Lewis Carroll’s 1865 novel is pure magic for young and old alike."
   ]
  },
  {
   "cell_type": "markdown",
   "metadata": {
    "ExecuteTime": {
     "end_time": "2018-12-10T03:15:11.529307Z",
     "start_time": "2018-12-10T03:15:11.508197Z"
    }
   },
   "source": [
    "| Gender Ratios | Conversations |  \n",
    "|--|--|  \n",
    "|![Alice in Wonderland](images/aliceGenders.png) | ![Alice in Wonderland](images/alicePlot.png)| "
   ]
  },
  {
   "cell_type": "markdown",
   "metadata": {},
   "source": [
    "We can conclude that the novel **appears** to pass the Bechdel test (It should however be noted that this novel is a **nonsense** novel, with quite a few animals appearing as characters, who may or may not have a gender, so to speak."
   ]
  },
  {
   "cell_type": "markdown",
   "metadata": {},
   "source": [
    "### [Great Expectations](http://www.gutenberg.org/files/1400/1400-0.txt)"
   ]
  },
  {
   "cell_type": "markdown",
   "metadata": {},
   "source": [
    "> In what may be Dickens's best novel, humble, orphaned Pip is apprenticed to the dirty work of the forge but dares to dream of becoming a gentleman — and one day, under sudden and enigmatic circumstances, he finds himself in possession of \"great expectations.\" In this gripping tale of crime and guilt, revenge and reward, the compelling characters include Magwitch, the fearful and fearsome convict; Estella, whose beauty is excelled only by her haughtiness; and the embittered Miss Havisham, an eccentric jilted bride."
   ]
  },
  {
   "cell_type": "markdown",
   "metadata": {
    "ExecuteTime": {
     "end_time": "2018-12-10T03:35:49.763599Z",
     "start_time": "2018-12-10T03:35:49.724118Z"
    }
   },
   "source": [
    "| Gender Ratios | Conversations |  \n",
    "|--|--|  \n",
    "|![Great Expectations](images/greatExpectationsGenders.png) | ![Great Expectations](images/greatExpectationsConversations.png)|"
   ]
  },
  {
   "cell_type": "markdown",
   "metadata": {},
   "source": [
    "### [Hamlet](http://www.gutenberg.org/files/1524/1524-0.txt)"
   ]
  },
  {
   "cell_type": "markdown",
   "metadata": {},
   "source": [
    "> Among Shakespeare's plays, \"Hamlet\" is considered by many his masterpiece. Among actors, the role of Hamlet, Prince of Denmark, is considered the jewel in the crown of a triumphant theatrical career. Now Kenneth Branagh plays the leading role and co-directs a brillant ensemble performance. Three generations of legendary leading actors, many of whom first assembled for the Oscar-winning film \"Henry V\", gather here to perform the rarely heard complete version of the play. This clear, subtly nuanced, stunning dramatization, presented by The Renaissance Theatre Company in association with \"Bbc\" Broadcasting, features such luminaries as Sir John Gielgud, Derek Jacobi, Emma Thompson and Christopher Ravenscroft. It combines a full cast with stirring music and sound effects to bring this magnificent Shakespearen classic vividly to life. Revealing new riches with each listening, this production of \"Hamlet\" is an invaluable aid for students, teachers and all true lovers of Shakespeare - a recording to be treasured for decades to come."
   ]
  },
  {
   "cell_type": "markdown",
   "metadata": {
    "ExecuteTime": {
     "end_time": "2018-12-10T06:15:48.871022Z",
     "start_time": "2018-12-10T06:15:48.802241Z"
    }
   },
   "source": [
    "| Gender Ratios | Conversations |  \n",
    "|--|--|  \n",
    "|![Hamlet](images/hamletGenders.png) | ![Hamlet](images/hamletConversations.png)|"
   ]
  },
  {
   "cell_type": "markdown",
   "metadata": {},
   "source": [
    "Hamlet performs exceptionally poorly, with poor women representation overall, as well as complete lack of conversation between any two women."
   ]
  },
  {
   "cell_type": "markdown",
   "metadata": {},
   "source": [
    "## Limitations"
   ]
  },
  {
   "cell_type": "markdown",
   "metadata": {},
   "source": [
    "1. We only use the genders of speakers, and ignore the gender of names which occur in `people` but not in `gender_dict`. To make the notebook more precise, we could either try to infer the gender of various entities from the context of the novel, or fill them in manually.\n",
    "2. We consider **only binary genders**, and treat others as neutral, which do not contribute to the custom Bechdel score.\n",
    "3. The StanfordNER algorithm often **performs poorly at attributing speech** to the correct speaker. In cases where the gender of the speaker is different, this can affect the results significantly. The best way to evaluate the performance of the algorithm in a quantitative context would be to annotate a novel manually, and measure how much the results differ from the algorithm's."
   ]
  },
  {
   "cell_type": "markdown",
   "metadata": {},
   "source": [
    "## Conclusion"
   ]
  },
  {
   "cell_type": "markdown",
   "metadata": {},
   "source": [
    "We observe that most novels appear to have more than twice as many males as females, with Jane Austen's Pride and Prejudice being a notable exception. Further, they appear to be slightly biased towards male-centric conversations; indeed, Hamlet turns out to have only a handful of conversations between females, which speaks volumes.\n",
    "\n",
    "While this research is neither novel nor groundbreaking, it highlights that even state-of-the-art NLP fall short of providing a competent tool box for performing large scale sociological studies such as this."
   ]
  },
  {
   "cell_type": "markdown",
   "metadata": {},
   "source": [
    "## References"
   ]
  },
  {
   "cell_type": "markdown",
   "metadata": {},
   "source": [
    "1. [Women better represented in Victorian novels than modern](https://www.theguardian.com/books/2018/feb/19/women-better-represented-in-victorian-novels-than-modern-finds-study)\n",
    "2. [Why Diverse Fiction Matters](https://www.tckpublishing.com/why-diverse-fiction-matters/)\n",
    "3. [Why We Need Diverse YA Books That Represent Marginalized Characters In All Of Their Complex, Quirky Glory](https://www.bustle.com/p/why-we-need-diverse-ya-books-that-represent-marginalized-characters-in-all-of-their-complex-quirky-glory-8003404)  \n",
    "4. [This is Why We Need Diversity in Fiction](https://katetilton.com/diversity-fiction/)\n",
    "5. [Automating The Bechdel-Wallace Test](http://nht.ecs.soton.ac.uk/2011/papers/12-flawrence.pdf)\n",
    "6. [Key Female Characters in Film Have More to Talk About Besides Men: Automating the Bechdel Test](http://aclweb.org/anthology/N/N15/N15-1084.pdf)"
   ]
  }
 ],
 "metadata": {
  "kernelspec": {
   "display_name": "Python 3",
   "language": "python",
   "name": "python3"
  },
  "language_info": {
   "codemirror_mode": {
    "name": "ipython",
    "version": 3
   },
   "file_extension": ".py",
   "mimetype": "text/x-python",
   "name": "python",
   "nbconvert_exporter": "python",
   "pygments_lexer": "ipython3",
   "version": "3.6.4"
  }
 },
 "nbformat": 4,
 "nbformat_minor": 2
}
